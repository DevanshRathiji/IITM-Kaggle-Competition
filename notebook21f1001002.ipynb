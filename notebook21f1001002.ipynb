{
 "cells": [
  {
   "cell_type": "code",
   "execution_count": 1,
   "id": "9f3e8759",
   "metadata": {
    "_cell_guid": "b1076dfc-b9ad-4769-8c92-a6c4dae69d19",
    "_uuid": "8f2839f25d086af736a60e9eeb907d3b93b6e0e5",
    "execution": {
     "iopub.execute_input": "2022-12-17T11:21:57.504413Z",
     "iopub.status.busy": "2022-12-17T11:21:57.503955Z",
     "iopub.status.idle": "2022-12-17T11:21:57.516131Z",
     "shell.execute_reply": "2022-12-17T11:21:57.514504Z"
    },
    "papermill": {
     "duration": 0.024064,
     "end_time": "2022-12-17T11:21:57.518702",
     "exception": false,
     "start_time": "2022-12-17T11:21:57.494638",
     "status": "completed"
    },
    "tags": []
   },
   "outputs": [
    {
     "name": "stdout",
     "output_type": "stream",
     "text": [
      "/kaggle/input/marketing-strategy-personalised-offer/sample.csv\n",
      "/kaggle/input/marketing-strategy-personalised-offer/train_data.csv\n",
      "/kaggle/input/marketing-strategy-personalised-offer/test_data.csv\n"
     ]
    }
   ],
   "source": [
    "# This Python 3 environment comes with many helpful analytics libraries installed\n",
    "# It is defined by the kaggle/python Docker image: https://github.com/kaggle/docker-python\n",
    "# For example, here's several helpful packages to load\n",
    "\n",
    "import numpy as np # linear algebra\n",
    "import pandas as pd # data processing, CSV file I/O (e.g. pd.read_csv)\n",
    "\n",
    "# Input data files are available in the read-only \"../input/\" directory\n",
    "# For example, running this (by clicking run or pressing Shift+Enter) will list all files under the input directory\n",
    "\n",
    "import os\n",
    "for dirname, _, filenames in os.walk('/kaggle/input'):\n",
    "    for filename in filenames:\n",
    "        print(os.path.join(dirname, filename))\n",
    "\n",
    "# You can write up to 20GB to the current directory (/kaggle/working/) that gets preserved as output when you create a version using \"Save & Run All\" \n",
    "# You can also write temporary files to /kaggle/temp/, but they won't be saved outside of the current session"
   ]
  },
  {
   "cell_type": "code",
   "execution_count": 2,
   "id": "0f996ca3",
   "metadata": {
    "execution": {
     "iopub.execute_input": "2022-12-17T11:21:57.534161Z",
     "iopub.status.busy": "2022-12-17T11:21:57.533454Z",
     "iopub.status.idle": "2022-12-17T11:21:57.616492Z",
     "shell.execute_reply": "2022-12-17T11:21:57.615009Z"
    },
    "papermill": {
     "duration": 0.094159,
     "end_time": "2022-12-17T11:21:57.619805",
     "exception": false,
     "start_time": "2022-12-17T11:21:57.525646",
     "status": "completed"
    },
    "tags": []
   },
   "outputs": [],
   "source": [
    "train_data = pd.read_csv('/kaggle/input/marketing-strategy-personalised-offer/train_data.csv')"
   ]
  },
  {
   "cell_type": "code",
   "execution_count": 3,
   "id": "753df04d",
   "metadata": {
    "execution": {
     "iopub.execute_input": "2022-12-17T11:21:57.634425Z",
     "iopub.status.busy": "2022-12-17T11:21:57.634067Z",
     "iopub.status.idle": "2022-12-17T11:21:57.642540Z",
     "shell.execute_reply": "2022-12-17T11:21:57.641864Z"
    },
    "papermill": {
     "duration": 0.018347,
     "end_time": "2022-12-17T11:21:57.644812",
     "exception": false,
     "start_time": "2022-12-17T11:21:57.626465",
     "status": "completed"
    },
    "tags": []
   },
   "outputs": [
    {
     "data": {
      "text/plain": [
       "(12379, 31)"
      ]
     },
     "execution_count": 3,
     "metadata": {},
     "output_type": "execute_result"
    }
   ],
   "source": [
    "train_data.shape"
   ]
  },
  {
   "cell_type": "code",
   "execution_count": 4,
   "id": "97fe3335",
   "metadata": {
    "execution": {
     "iopub.execute_input": "2022-12-17T11:21:57.660741Z",
     "iopub.status.busy": "2022-12-17T11:21:57.659758Z",
     "iopub.status.idle": "2022-12-17T11:21:57.694877Z",
     "shell.execute_reply": "2022-12-17T11:21:57.693921Z"
    },
    "papermill": {
     "duration": 0.044909,
     "end_time": "2022-12-17T11:21:57.696756",
     "exception": false,
     "start_time": "2022-12-17T11:21:57.651847",
     "status": "completed"
    },
    "tags": []
   },
   "outputs": [
    {
     "data": {
      "text/html": [
       "<div>\n",
       "<style scoped>\n",
       "    .dataframe tbody tr th:only-of-type {\n",
       "        vertical-align: middle;\n",
       "    }\n",
       "\n",
       "    .dataframe tbody tr th {\n",
       "        vertical-align: top;\n",
       "    }\n",
       "\n",
       "    .dataframe thead th {\n",
       "        text-align: right;\n",
       "    }\n",
       "</style>\n",
       "<table border=\"1\" class=\"dataframe\">\n",
       "  <thead>\n",
       "    <tr style=\"text-align: right;\">\n",
       "      <th></th>\n",
       "      <th>offer expiration</th>\n",
       "      <th>income_range</th>\n",
       "      <th>no_visited_Cold drinks</th>\n",
       "      <th>travelled_more_than_15mins_for_offer</th>\n",
       "      <th>Restaur_spend_less_than20</th>\n",
       "      <th>Marital Status</th>\n",
       "      <th>restaurant type</th>\n",
       "      <th>age</th>\n",
       "      <th>Prefer western over chinese</th>\n",
       "      <th>travelled_more_than_25mins_for_offer</th>\n",
       "      <th>...</th>\n",
       "      <th>restuarant_opposite_direction_house</th>\n",
       "      <th>has Children</th>\n",
       "      <th>visit restaurant with rating (avg)</th>\n",
       "      <th>temperature</th>\n",
       "      <th>Restaur_spend_greater_than20</th>\n",
       "      <th>Travel Time</th>\n",
       "      <th>Climate</th>\n",
       "      <th>drop location</th>\n",
       "      <th>Prefer home food</th>\n",
       "      <th>Offer Accepted</th>\n",
       "    </tr>\n",
       "  </thead>\n",
       "  <tbody>\n",
       "    <tr>\n",
       "      <th>0</th>\n",
       "      <td>2days</td>\n",
       "      <td>₹100000 or More</td>\n",
       "      <td>4~8</td>\n",
       "      <td>1</td>\n",
       "      <td>less1</td>\n",
       "      <td>Married partner</td>\n",
       "      <td>4 star restaurant</td>\n",
       "      <td>36</td>\n",
       "      <td>0</td>\n",
       "      <td>0</td>\n",
       "      <td>...</td>\n",
       "      <td>0</td>\n",
       "      <td>0</td>\n",
       "      <td>4</td>\n",
       "      <td>67</td>\n",
       "      <td>less1</td>\n",
       "      <td>22</td>\n",
       "      <td>Spring</td>\n",
       "      <td>Location B</td>\n",
       "      <td>0</td>\n",
       "      <td>No</td>\n",
       "    </tr>\n",
       "    <tr>\n",
       "      <th>1</th>\n",
       "      <td>2days</td>\n",
       "      <td>₹87500 - ₹99999</td>\n",
       "      <td>4~8</td>\n",
       "      <td>0</td>\n",
       "      <td>4~8</td>\n",
       "      <td>Married partner</td>\n",
       "      <td>Take-away restaurant</td>\n",
       "      <td>50plus</td>\n",
       "      <td>0</td>\n",
       "      <td>0</td>\n",
       "      <td>...</td>\n",
       "      <td>0</td>\n",
       "      <td>1</td>\n",
       "      <td>3</td>\n",
       "      <td>89</td>\n",
       "      <td>1~3</td>\n",
       "      <td>18</td>\n",
       "      <td>Summer</td>\n",
       "      <td>Location B</td>\n",
       "      <td>0</td>\n",
       "      <td>Yes</td>\n",
       "    </tr>\n",
       "    <tr>\n",
       "      <th>2</th>\n",
       "      <td>2days</td>\n",
       "      <td>₹87500 - ₹99999</td>\n",
       "      <td>less1</td>\n",
       "      <td>1</td>\n",
       "      <td>1~3</td>\n",
       "      <td>Single</td>\n",
       "      <td>Cold drinks</td>\n",
       "      <td>26</td>\n",
       "      <td>1</td>\n",
       "      <td>0</td>\n",
       "      <td>...</td>\n",
       "      <td>1</td>\n",
       "      <td>1</td>\n",
       "      <td>4</td>\n",
       "      <td>67</td>\n",
       "      <td>less1</td>\n",
       "      <td>7</td>\n",
       "      <td>Winter</td>\n",
       "      <td>Location A</td>\n",
       "      <td>1</td>\n",
       "      <td>Yes</td>\n",
       "    </tr>\n",
       "    <tr>\n",
       "      <th>3</th>\n",
       "      <td>10hours</td>\n",
       "      <td>₹37500 - ₹49999</td>\n",
       "      <td>less1</td>\n",
       "      <td>0</td>\n",
       "      <td>1~3</td>\n",
       "      <td>Single</td>\n",
       "      <td>Take-away restaurant</td>\n",
       "      <td>46</td>\n",
       "      <td>1</td>\n",
       "      <td>0</td>\n",
       "      <td>...</td>\n",
       "      <td>0</td>\n",
       "      <td>1</td>\n",
       "      <td>3</td>\n",
       "      <td>89</td>\n",
       "      <td>1~3</td>\n",
       "      <td>7</td>\n",
       "      <td>Summer</td>\n",
       "      <td>Location C</td>\n",
       "      <td>0</td>\n",
       "      <td>No</td>\n",
       "    </tr>\n",
       "    <tr>\n",
       "      <th>4</th>\n",
       "      <td>2days</td>\n",
       "      <td>₹100000 or More</td>\n",
       "      <td>never</td>\n",
       "      <td>1</td>\n",
       "      <td>1~3</td>\n",
       "      <td>Single</td>\n",
       "      <td>4 star restaurant</td>\n",
       "      <td>21</td>\n",
       "      <td>0</td>\n",
       "      <td>1</td>\n",
       "      <td>...</td>\n",
       "      <td>1</td>\n",
       "      <td>0</td>\n",
       "      <td>3</td>\n",
       "      <td>40</td>\n",
       "      <td>less1</td>\n",
       "      <td>7</td>\n",
       "      <td>Summer</td>\n",
       "      <td>Location C</td>\n",
       "      <td>0</td>\n",
       "      <td>No</td>\n",
       "    </tr>\n",
       "  </tbody>\n",
       "</table>\n",
       "<p>5 rows × 31 columns</p>\n",
       "</div>"
      ],
      "text/plain": [
       "  offer expiration     income_range no_visited_Cold drinks  \\\n",
       "0            2days  ₹100000 or More                    4~8   \n",
       "1            2days  ₹87500 - ₹99999                    4~8   \n",
       "2            2days  ₹87500 - ₹99999                  less1   \n",
       "3          10hours  ₹37500 - ₹49999                  less1   \n",
       "4            2days  ₹100000 or More                  never   \n",
       "\n",
       "   travelled_more_than_15mins_for_offer Restaur_spend_less_than20  \\\n",
       "0                                     1                     less1   \n",
       "1                                     0                       4~8   \n",
       "2                                     1                       1~3   \n",
       "3                                     0                       1~3   \n",
       "4                                     1                       1~3   \n",
       "\n",
       "    Marital Status       restaurant type     age  Prefer western over chinese  \\\n",
       "0  Married partner     4 star restaurant      36                            0   \n",
       "1  Married partner  Take-away restaurant  50plus                            0   \n",
       "2           Single           Cold drinks      26                            1   \n",
       "3           Single  Take-away restaurant      46                            1   \n",
       "4           Single     4 star restaurant      21                            0   \n",
       "\n",
       "   travelled_more_than_25mins_for_offer  ...  \\\n",
       "0                                     0  ...   \n",
       "1                                     0  ...   \n",
       "2                                     0  ...   \n",
       "3                                     0  ...   \n",
       "4                                     1  ...   \n",
       "\n",
       "   restuarant_opposite_direction_house has Children  \\\n",
       "0                                    0            0   \n",
       "1                                    0            1   \n",
       "2                                    1            1   \n",
       "3                                    0            1   \n",
       "4                                    1            0   \n",
       "\n",
       "  visit restaurant with rating (avg) temperature  \\\n",
       "0                                  4          67   \n",
       "1                                  3          89   \n",
       "2                                  4          67   \n",
       "3                                  3          89   \n",
       "4                                  3          40   \n",
       "\n",
       "   Restaur_spend_greater_than20  Travel Time Climate drop location  \\\n",
       "0                         less1           22  Spring    Location B   \n",
       "1                           1~3           18  Summer    Location B   \n",
       "2                         less1            7  Winter    Location A   \n",
       "3                           1~3            7  Summer    Location C   \n",
       "4                         less1            7  Summer    Location C   \n",
       "\n",
       "   Prefer home food Offer Accepted  \n",
       "0                 0             No  \n",
       "1                 0            Yes  \n",
       "2                 1            Yes  \n",
       "3                 0             No  \n",
       "4                 0             No  \n",
       "\n",
       "[5 rows x 31 columns]"
      ]
     },
     "execution_count": 4,
     "metadata": {},
     "output_type": "execute_result"
    }
   ],
   "source": [
    "train_data.head()"
   ]
  },
  {
   "cell_type": "code",
   "execution_count": 5,
   "id": "b6480b3e",
   "metadata": {
    "execution": {
     "iopub.execute_input": "2022-12-17T11:21:57.712251Z",
     "iopub.status.busy": "2022-12-17T11:21:57.711826Z",
     "iopub.status.idle": "2022-12-17T11:21:58.759622Z",
     "shell.execute_reply": "2022-12-17T11:21:58.758412Z"
    },
    "papermill": {
     "duration": 1.058561,
     "end_time": "2022-12-17T11:21:58.762372",
     "exception": false,
     "start_time": "2022-12-17T11:21:57.703811",
     "status": "completed"
    },
    "tags": []
   },
   "outputs": [],
   "source": [
    "columns = train_data.dtypes.reset_index()\n",
    "num_cols = columns[columns[0]=='int64']['index'].values\n",
    "from sklearn.preprocessing import MaxAbsScaler\n",
    "s = MaxAbsScaler()\n",
    "train_data[num_cols] = s.fit_transform(train_data[num_cols])\n",
    "#train_data[num_cols] = train_data[num_cols].astype('int')"
   ]
  },
  {
   "cell_type": "code",
   "execution_count": 6,
   "id": "f0708f84",
   "metadata": {
    "execution": {
     "iopub.execute_input": "2022-12-17T11:21:58.782624Z",
     "iopub.status.busy": "2022-12-17T11:21:58.782233Z",
     "iopub.status.idle": "2022-12-17T11:21:59.258688Z",
     "shell.execute_reply": "2022-12-17T11:21:59.257881Z"
    },
    "papermill": {
     "duration": 0.487219,
     "end_time": "2022-12-17T11:21:59.260766",
     "exception": false,
     "start_time": "2022-12-17T11:21:58.773547",
     "status": "completed"
    },
    "tags": []
   },
   "outputs": [],
   "source": [
    "train_data = train_data.drop(['car'],axis=1)\n",
    "train_data = train_data.drop(['restuarant_opposite_direction_house'],axis=1)\n",
    "\n",
    "\n",
    "import category_encoders as ce\n",
    "encoder= ce.OrdinalEncoder(cols=['offer expiration'],return_df=True,\n",
    "                           mapping=[{'col':'offer expiration','mapping':{'10hours':1,'2days':2}}])\n",
    "train_data = encoder.fit_transform(train_data)\n",
    "\n",
    "encoder= ce.OrdinalEncoder(cols=['no_visited_Cold drinks'],return_df=True,\n",
    "                           mapping=[{'col':'no_visited_Cold drinks','mapping':{'4~8':4,'less1':2,'never':1,'1~3':3,'gt8':5}}])\n",
    "train_data = encoder.fit_transform(train_data)\n",
    "\n",
    "encoder= ce.OrdinalEncoder(cols=['Restaur_spend_less_than20'],return_df=True,\n",
    "                           mapping=[{'col':'Restaur_spend_less_than20','mapping':{'4~8':4,'less1':2,'never':1,'1~3':3,'gt8':5}}])\n",
    "train_data = encoder.fit_transform(train_data)\n",
    "\n",
    "encoder= ce.OrdinalEncoder(cols=['Marital Status'],return_df=True,\n",
    "                           mapping=[{'col':'Marital Status','mapping':{'Married partner':0,'Single':3,'Divorced':2,'Unmarried partner':4,'Widowed':1}}])\n",
    "train_data = encoder.fit_transform(train_data)\n",
    "\n",
    "encoder= ce.OrdinalEncoder(cols=['gender'],return_df=True,\n",
    "                           mapping=[{'col':'gender','mapping':{'Female':0,'Male':1}}])\n",
    "train_data = encoder.fit_transform(train_data)\n",
    "\n",
    "encoder= ce.OrdinalEncoder(cols=['Customer type'],return_df=True,\n",
    "                           mapping=[{'col':'Customer type','mapping':{'Individual':0,'With Family':1,'With Kids':2,'With Colleagues':3}}])\n",
    "train_data = encoder.fit_transform(train_data)\n",
    "\n",
    "encoder= ce.OrdinalEncoder(cols=['no_Take-aways'],return_df=True,\n",
    "                           mapping=[{'col':'no_Take-aways','mapping':{'4~8':4,'less1':2,'never':1,'1~3':3,'gt8':5}}])\n",
    "train_data = encoder.fit_transform(train_data)\n",
    "\n",
    "train_data = train_data.drop(['Restaur_spend_greater_than20'],axis=1)\n",
    "\n",
    "encoder= ce.OrdinalEncoder(cols=['Climate'],return_df=True,\n",
    "                           mapping=[{'col':'Climate','mapping':{'Spring':0,'Summer':1,'Winter':2}}])\n",
    "train_data = encoder.fit_transform(train_data)\n",
    "\n",
    "encoder= ce.OrdinalEncoder(cols=['drop location'],return_df=True,\n",
    "                           mapping=[{'col':'drop location','mapping':{'Location A':0,'Location B':1,'Location c':2}}])\n",
    "train_data = encoder.fit_transform(train_data)\n",
    "\n",
    "encoder= ce.OrdinalEncoder(cols=['no_visited_bars'],return_df=True,\n",
    "                           mapping=[{'col':'no_visited_bars','mapping':{'4~8':4,'less1':2,'never':1,'1~3':3,'gt8':5}}])\n",
    "train_data = encoder.fit_transform(train_data)"
   ]
  },
  {
   "cell_type": "code",
   "execution_count": 7,
   "id": "79ac6744",
   "metadata": {
    "execution": {
     "iopub.execute_input": "2022-12-17T11:21:59.277055Z",
     "iopub.status.busy": "2022-12-17T11:21:59.276585Z",
     "iopub.status.idle": "2022-12-17T11:21:59.297698Z",
     "shell.execute_reply": "2022-12-17T11:21:59.296885Z"
    },
    "papermill": {
     "duration": 0.031878,
     "end_time": "2022-12-17T11:21:59.299694",
     "exception": false,
     "start_time": "2022-12-17T11:21:59.267816",
     "status": "completed"
    },
    "tags": []
   },
   "outputs": [],
   "source": [
    "from sklearn import preprocessing\n",
    "\n",
    "label_encoder = preprocessing.LabelEncoder()\n",
    "\n",
    "train_data['income_range'] = label_encoder.fit_transform(train_data['income_range'])\n",
    "train_data['restaurant type'] = label_encoder.fit_transform(train_data['restaurant type'])\n",
    "train_data['age'] = label_encoder.fit_transform(train_data['age'])\n",
    "train_data['Qualification'] = label_encoder.fit_transform(train_data['Qualification'])"
   ]
  },
  {
   "cell_type": "code",
   "execution_count": 8,
   "id": "8c781b6f",
   "metadata": {
    "execution": {
     "iopub.execute_input": "2022-12-17T11:21:59.316219Z",
     "iopub.status.busy": "2022-12-17T11:21:59.315599Z",
     "iopub.status.idle": "2022-12-17T11:21:59.324685Z",
     "shell.execute_reply": "2022-12-17T11:21:59.323821Z"
    },
    "papermill": {
     "duration": 0.021468,
     "end_time": "2022-12-17T11:21:59.328307",
     "exception": false,
     "start_time": "2022-12-17T11:21:59.306839",
     "status": "completed"
    },
    "tags": []
   },
   "outputs": [],
   "source": [
    "train_data['drop location'] = train_data['drop location'].astype('int')\n",
    "train_data['no_Take-aways'] = train_data['no_Take-aways'].astype('int')\n",
    "train_data['Restaur_spend_less_than20'] = train_data['Restaur_spend_less_than20'].astype('int')\n",
    "train_data['no_visited_Cold drinks'] = train_data['no_visited_Cold drinks'].astype('int')\n",
    "train_data['no_visited_bars'] = train_data['no_visited_bars'].astype('int')"
   ]
  },
  {
   "cell_type": "code",
   "execution_count": 9,
   "id": "936343d5",
   "metadata": {
    "execution": {
     "iopub.execute_input": "2022-12-17T11:21:59.347249Z",
     "iopub.status.busy": "2022-12-17T11:21:59.346847Z",
     "iopub.status.idle": "2022-12-17T11:21:59.355107Z",
     "shell.execute_reply": "2022-12-17T11:21:59.354471Z"
    },
    "papermill": {
     "duration": 0.020434,
     "end_time": "2022-12-17T11:21:59.357648",
     "exception": false,
     "start_time": "2022-12-17T11:21:59.337214",
     "status": "completed"
    },
    "tags": []
   },
   "outputs": [
    {
     "data": {
      "text/plain": [
       "array(['offer expiration', 'income_range', 'no_visited_Cold drinks',\n",
       "       'Restaur_spend_less_than20', 'Marital Status', 'restaurant type',\n",
       "       'age', 'no_visited_bars', 'gender', 'Customer type',\n",
       "       'Qualification', 'no_Take-aways', 'Climate', 'drop location'],\n",
       "      dtype=object)"
      ]
     },
     "execution_count": 9,
     "metadata": {},
     "output_type": "execute_result"
    }
   ],
   "source": [
    "columns = train_data.dtypes.reset_index()\n",
    "selected_columns = columns[columns[0]=='int64']['index'].values\n",
    "selected_columns"
   ]
  },
  {
   "cell_type": "code",
   "execution_count": 10,
   "id": "31d326df",
   "metadata": {
    "execution": {
     "iopub.execute_input": "2022-12-17T11:21:59.375702Z",
     "iopub.status.busy": "2022-12-17T11:21:59.375203Z",
     "iopub.status.idle": "2022-12-17T11:21:59.386313Z",
     "shell.execute_reply": "2022-12-17T11:21:59.385462Z"
    },
    "papermill": {
     "duration": 0.022838,
     "end_time": "2022-12-17T11:21:59.388691",
     "exception": false,
     "start_time": "2022-12-17T11:21:59.365853",
     "status": "completed"
    },
    "tags": []
   },
   "outputs": [],
   "source": [
    "train_data[selected_columns] = train_data[selected_columns].astype('float')\n"
   ]
  },
  {
   "cell_type": "code",
   "execution_count": 11,
   "id": "cf64e3cc",
   "metadata": {
    "execution": {
     "iopub.execute_input": "2022-12-17T11:21:59.405948Z",
     "iopub.status.busy": "2022-12-17T11:21:59.405512Z",
     "iopub.status.idle": "2022-12-17T11:21:59.414731Z",
     "shell.execute_reply": "2022-12-17T11:21:59.413424Z"
    },
    "papermill": {
     "duration": 0.019902,
     "end_time": "2022-12-17T11:21:59.416570",
     "exception": false,
     "start_time": "2022-12-17T11:21:59.396668",
     "status": "completed"
    },
    "tags": []
   },
   "outputs": [
    {
     "data": {
      "text/plain": [
       "array(['offer expiration', 'income_range', 'no_visited_Cold drinks',\n",
       "       'travelled_more_than_15mins_for_offer',\n",
       "       'Restaur_spend_less_than20', 'Marital Status', 'restaurant type',\n",
       "       'age', 'Prefer western over chinese',\n",
       "       'travelled_more_than_25mins_for_offer',\n",
       "       'travelled_more_than_5mins_for_offer', 'no_visited_bars', 'gender',\n",
       "       'restuarant_same_direction_house', 'Cooks regularly',\n",
       "       'Customer type', 'Qualification', 'is foodie', 'no_Take-aways',\n",
       "       'has Children', 'visit restaurant with rating (avg)',\n",
       "       'temperature', 'Travel Time', 'Climate', 'drop location',\n",
       "       'Prefer home food'], dtype=object)"
      ]
     },
     "execution_count": 11,
     "metadata": {},
     "output_type": "execute_result"
    }
   ],
   "source": [
    "columns = train_data.dtypes.reset_index()\n",
    "selected_columns = columns[columns[0]=='float64']['index'].values\n",
    "selected_columns"
   ]
  },
  {
   "cell_type": "code",
   "execution_count": 12,
   "id": "8bb0d32c",
   "metadata": {
    "execution": {
     "iopub.execute_input": "2022-12-17T11:21:59.432910Z",
     "iopub.status.busy": "2022-12-17T11:21:59.432341Z",
     "iopub.status.idle": "2022-12-17T11:21:59.438944Z",
     "shell.execute_reply": "2022-12-17T11:21:59.437957Z"
    },
    "papermill": {
     "duration": 0.016809,
     "end_time": "2022-12-17T11:21:59.440721",
     "exception": false,
     "start_time": "2022-12-17T11:21:59.423912",
     "status": "completed"
    },
    "tags": []
   },
   "outputs": [],
   "source": [
    "X_train = train_data[selected_columns]\n",
    "y_train = train_data['Offer Accepted']"
   ]
  },
  {
   "cell_type": "code",
   "execution_count": 13,
   "id": "fe3735dc",
   "metadata": {
    "execution": {
     "iopub.execute_input": "2022-12-17T11:21:59.457100Z",
     "iopub.status.busy": "2022-12-17T11:21:59.456435Z",
     "iopub.status.idle": "2022-12-17T11:21:59.463713Z",
     "shell.execute_reply": "2022-12-17T11:21:59.462586Z"
    },
    "papermill": {
     "duration": 0.017744,
     "end_time": "2022-12-17T11:21:59.465516",
     "exception": false,
     "start_time": "2022-12-17T11:21:59.447772",
     "status": "completed"
    },
    "tags": []
   },
   "outputs": [],
   "source": [
    "from sklearn import preprocessing\n",
    "\n",
    "label_encoder = preprocessing.LabelEncoder()\n",
    "y_train = label_encoder.fit_transform(y_train)"
   ]
  },
  {
   "cell_type": "code",
   "execution_count": 14,
   "id": "249caf6b",
   "metadata": {
    "execution": {
     "iopub.execute_input": "2022-12-17T11:21:59.481762Z",
     "iopub.status.busy": "2022-12-17T11:21:59.481192Z",
     "iopub.status.idle": "2022-12-17T11:21:59.766872Z",
     "shell.execute_reply": "2022-12-17T11:21:59.765848Z"
    },
    "papermill": {
     "duration": 0.296464,
     "end_time": "2022-12-17T11:21:59.769255",
     "exception": false,
     "start_time": "2022-12-17T11:21:59.472791",
     "status": "completed"
    },
    "tags": []
   },
   "outputs": [],
   "source": [
    "from sklearn.ensemble import AdaBoostClassifier\n",
    "clf = AdaBoostClassifier(n_estimators=30)"
   ]
  },
  {
   "cell_type": "code",
   "execution_count": 15,
   "id": "3cb4671a",
   "metadata": {
    "execution": {
     "iopub.execute_input": "2022-12-17T11:21:59.785664Z",
     "iopub.status.busy": "2022-12-17T11:21:59.785307Z",
     "iopub.status.idle": "2022-12-17T11:22:00.121450Z",
     "shell.execute_reply": "2022-12-17T11:22:00.119377Z"
    },
    "papermill": {
     "duration": 0.347287,
     "end_time": "2022-12-17T11:22:00.124095",
     "exception": false,
     "start_time": "2022-12-17T11:21:59.776808",
     "status": "completed"
    },
    "tags": []
   },
   "outputs": [
    {
     "data": {
      "text/plain": [
       "AdaBoostClassifier(n_estimators=30)"
      ]
     },
     "execution_count": 15,
     "metadata": {},
     "output_type": "execute_result"
    }
   ],
   "source": [
    "clf.fit(X_train,y_train)"
   ]
  },
  {
   "cell_type": "code",
   "execution_count": 16,
   "id": "d19e177b",
   "metadata": {
    "execution": {
     "iopub.execute_input": "2022-12-17T11:22:00.140480Z",
     "iopub.status.busy": "2022-12-17T11:22:00.140143Z",
     "iopub.status.idle": "2022-12-17T11:22:00.177487Z",
     "shell.execute_reply": "2022-12-17T11:22:00.176339Z"
    },
    "papermill": {
     "duration": 0.048193,
     "end_time": "2022-12-17T11:22:00.179866",
     "exception": false,
     "start_time": "2022-12-17T11:22:00.131673",
     "status": "completed"
    },
    "tags": []
   },
   "outputs": [],
   "source": [
    "test_data = pd.read_csv('/kaggle/input/marketing-strategy-personalised-offer/test_data.csv')"
   ]
  },
  {
   "cell_type": "code",
   "execution_count": 17,
   "id": "2a9947f3",
   "metadata": {
    "execution": {
     "iopub.execute_input": "2022-12-17T11:22:00.196029Z",
     "iopub.status.busy": "2022-12-17T11:22:00.195635Z",
     "iopub.status.idle": "2022-12-17T11:22:00.212565Z",
     "shell.execute_reply": "2022-12-17T11:22:00.211201Z"
    },
    "papermill": {
     "duration": 0.027806,
     "end_time": "2022-12-17T11:22:00.215140",
     "exception": false,
     "start_time": "2022-12-17T11:22:00.187334",
     "status": "completed"
    },
    "tags": []
   },
   "outputs": [],
   "source": [
    "colums = test_data.dtypes.reset_index()\n",
    "num_coles = colums[colums[0]=='int64']['index'].values\n",
    "from sklearn.preprocessing import MaxAbsScaler\n",
    "ss = MaxAbsScaler()\n",
    "test_data[num_coles] = ss.fit_transform(test_data[num_coles])\n",
    "#test_data[num_coles] = test_data[num_coles].astype('int')"
   ]
  },
  {
   "cell_type": "code",
   "execution_count": 18,
   "id": "385d6eeb",
   "metadata": {
    "execution": {
     "iopub.execute_input": "2022-12-17T11:22:00.233331Z",
     "iopub.status.busy": "2022-12-17T11:22:00.232459Z",
     "iopub.status.idle": "2022-12-17T11:22:00.376732Z",
     "shell.execute_reply": "2022-12-17T11:22:00.375522Z"
    },
    "papermill": {
     "duration": 0.156575,
     "end_time": "2022-12-17T11:22:00.379455",
     "exception": false,
     "start_time": "2022-12-17T11:22:00.222880",
     "status": "completed"
    },
    "tags": []
   },
   "outputs": [],
   "source": [
    "import category_encoders as ce\n",
    "encoder= ce.OrdinalEncoder(cols=['offer expiration'],return_df=True,\n",
    "                           mapping=[{'col':'offer expiration','mapping':{'10hours':1,'2days':2}}])\n",
    "test_data = encoder.fit_transform(test_data)\n",
    "\n",
    "encoder= ce.OrdinalEncoder(cols=['no_visited_Cold drinks'],return_df=True,\n",
    "                           mapping=[{'col':'no_visited_Cold drinks','mapping':{'4~8':4,'less1':2,'never':1,'1~3':3,'gt8':5}}])\n",
    "test_data = encoder.fit_transform(test_data)\n",
    "\n",
    "encoder= ce.OrdinalEncoder(cols=['Restaur_spend_less_than20'],return_df=True,\n",
    "                           mapping=[{'col':'Restaur_spend_less_than20','mapping':{'4~8':4,'less1':2,'never':1,'1~3':3,'gt8':5}}])\n",
    "test_data = encoder.fit_transform(test_data)\n",
    "\n",
    "encoder= ce.OrdinalEncoder(cols=['Marital Status'],return_df=True,\n",
    "                           mapping=[{'col':'Marital Status','mapping':{'Married partner':0,'Single':3,'Divorced':2,'Unmarried partner':4,'Widowed':1}}])\n",
    "test_data = encoder.fit_transform(test_data)\n",
    "\n",
    "encoder= ce.OrdinalEncoder(cols=['gender'],return_df=True,\n",
    "                           mapping=[{'col':'gender','mapping':{'Female':0,'Male':1}}])\n",
    "test_data = encoder.fit_transform(test_data)\n",
    "\n",
    "encoder= ce.OrdinalEncoder(cols=['Customer type'],return_df=True,\n",
    "                           mapping=[{'col':'Customer type','mapping':{'Individual':0,'With Family':1,'With Kids':2,'With Colleagues':3}}])\n",
    "test_data = encoder.fit_transform(test_data)\n",
    "\n",
    "encoder= ce.OrdinalEncoder(cols=['no_Take-aways'],return_df=True,\n",
    "                           mapping=[{'col':'no_Take-aways','mapping':{'4~8':4,'less1':2,'never':1,'1~3':3,'gt8':5}}])\n",
    "test_data = encoder.fit_transform(test_data)\n",
    "\n",
    "test_data = test_data.drop(['Restaur_spend_greater_than20'],axis=1)\n",
    "\n",
    "encoder= ce.OrdinalEncoder(cols=['Climate'],return_df=True,\n",
    "                           mapping=[{'col':'Climate','mapping':{'Spring':0,'Summer':1,'Winter':2}}])\n",
    "test_data = encoder.fit_transform(test_data)\n",
    "\n",
    "encoder= ce.OrdinalEncoder(cols=['drop location'],return_df=True,\n",
    "                           mapping=[{'col':'drop location','mapping':{'Location A':0,'Location B':1,'Location c':2}}])\n",
    "test_data = encoder.fit_transform(test_data)\n",
    "\n",
    "encoder= ce.OrdinalEncoder(cols=['no_visited_bars'],return_df=True,\n",
    "                           mapping=[{'col':'no_visited_bars','mapping':{'4~8':4,'less1':2,'never':1,'1~3':3,'gt8':5}}])\n",
    "test_data = encoder.fit_transform(test_data)"
   ]
  },
  {
   "cell_type": "code",
   "execution_count": 19,
   "id": "54fa3d63",
   "metadata": {
    "execution": {
     "iopub.execute_input": "2022-12-17T11:22:00.396179Z",
     "iopub.status.busy": "2022-12-17T11:22:00.395808Z",
     "iopub.status.idle": "2022-12-17T11:22:00.412840Z",
     "shell.execute_reply": "2022-12-17T11:22:00.411881Z"
    },
    "papermill": {
     "duration": 0.028347,
     "end_time": "2022-12-17T11:22:00.415311",
     "exception": false,
     "start_time": "2022-12-17T11:22:00.386964",
     "status": "completed"
    },
    "tags": []
   },
   "outputs": [],
   "source": [
    "from sklearn import preprocessing\n",
    "\n",
    "label_encoder = preprocessing.LabelEncoder()\n",
    "\n",
    "test_data['income_range'] = label_encoder.fit_transform(test_data['income_range'])\n",
    "test_data['restaurant type'] = label_encoder.fit_transform(test_data['restaurant type'])\n",
    "test_data['age'] = label_encoder.fit_transform(test_data['age'])\n",
    "test_data['Qualification'] = label_encoder.fit_transform(test_data['Qualification'])\n",
    "test_data['drop location'] = test_data['drop location'].astype('int')\n",
    "test_data['no_Take-aways'] = test_data['no_Take-aways'].astype('int')\n",
    "test_data['Restaur_spend_less_than20'] = test_data['Restaur_spend_less_than20'].astype('int')\n",
    "test_data['no_visited_Cold drinks'] = test_data['no_visited_Cold drinks'].astype('int')\n",
    "test_data['no_visited_bars'] = test_data['no_visited_bars'].astype('int')"
   ]
  },
  {
   "cell_type": "code",
   "execution_count": 20,
   "id": "a7de495e",
   "metadata": {
    "execution": {
     "iopub.execute_input": "2022-12-17T11:22:00.432009Z",
     "iopub.status.busy": "2022-12-17T11:22:00.431416Z",
     "iopub.status.idle": "2022-12-17T11:22:00.442862Z",
     "shell.execute_reply": "2022-12-17T11:22:00.441240Z"
    },
    "papermill": {
     "duration": 0.022623,
     "end_time": "2022-12-17T11:22:00.445464",
     "exception": false,
     "start_time": "2022-12-17T11:22:00.422841",
     "status": "completed"
    },
    "tags": []
   },
   "outputs": [],
   "source": [
    "train_data[selected_columns] = train_data[selected_columns].astype('float')"
   ]
  },
  {
   "cell_type": "code",
   "execution_count": 21,
   "id": "ba950f0d",
   "metadata": {
    "execution": {
     "iopub.execute_input": "2022-12-17T11:22:00.463317Z",
     "iopub.status.busy": "2022-12-17T11:22:00.462927Z",
     "iopub.status.idle": "2022-12-17T11:22:00.472820Z",
     "shell.execute_reply": "2022-12-17T11:22:00.471486Z"
    },
    "papermill": {
     "duration": 0.021883,
     "end_time": "2022-12-17T11:22:00.475000",
     "exception": false,
     "start_time": "2022-12-17T11:22:00.453117",
     "status": "completed"
    },
    "tags": []
   },
   "outputs": [
    {
     "data": {
      "text/plain": [
       "array(['offer expiration', 'income_range', 'no_visited_Cold drinks',\n",
       "       'travelled_more_than_15mins_for_offer',\n",
       "       'Restaur_spend_less_than20', 'Marital Status', 'restaurant type',\n",
       "       'age', 'Prefer western over chinese',\n",
       "       'travelled_more_than_25mins_for_offer',\n",
       "       'travelled_more_than_5mins_for_offer', 'no_visited_bars', 'gender',\n",
       "       'restuarant_same_direction_house', 'Cooks regularly',\n",
       "       'Customer type', 'Qualification', 'is foodie', 'no_Take-aways',\n",
       "       'has Children', 'visit restaurant with rating (avg)',\n",
       "       'temperature', 'Travel Time', 'Climate', 'drop location',\n",
       "       'Prefer home food'], dtype=object)"
      ]
     },
     "execution_count": 21,
     "metadata": {},
     "output_type": "execute_result"
    }
   ],
   "source": [
    "columns = train_data.dtypes.reset_index()\n",
    "selected_columns = columns[columns[0]=='float64']['index'].values\n",
    "selected_columns"
   ]
  },
  {
   "cell_type": "code",
   "execution_count": 22,
   "id": "d073fb7e",
   "metadata": {
    "execution": {
     "iopub.execute_input": "2022-12-17T11:22:00.492103Z",
     "iopub.status.busy": "2022-12-17T11:22:00.491645Z",
     "iopub.status.idle": "2022-12-17T11:22:00.498455Z",
     "shell.execute_reply": "2022-12-17T11:22:00.497691Z"
    },
    "papermill": {
     "duration": 0.0177,
     "end_time": "2022-12-17T11:22:00.500409",
     "exception": false,
     "start_time": "2022-12-17T11:22:00.482709",
     "status": "completed"
    },
    "tags": []
   },
   "outputs": [],
   "source": [
    "X_test = test_data[selected_columns]"
   ]
  },
  {
   "cell_type": "code",
   "execution_count": 23,
   "id": "01dcb051",
   "metadata": {
    "execution": {
     "iopub.execute_input": "2022-12-17T11:22:00.517396Z",
     "iopub.status.busy": "2022-12-17T11:22:00.516800Z",
     "iopub.status.idle": "2022-12-17T11:22:00.544606Z",
     "shell.execute_reply": "2022-12-17T11:22:00.543577Z"
    },
    "papermill": {
     "duration": 0.038847,
     "end_time": "2022-12-17T11:22:00.546862",
     "exception": false,
     "start_time": "2022-12-17T11:22:00.508015",
     "status": "completed"
    },
    "tags": []
   },
   "outputs": [],
   "source": [
    "pred = clf.predict(X_test)"
   ]
  },
  {
   "cell_type": "code",
   "execution_count": 24,
   "id": "c483db9c",
   "metadata": {
    "execution": {
     "iopub.execute_input": "2022-12-17T11:22:00.563630Z",
     "iopub.status.busy": "2022-12-17T11:22:00.563113Z",
     "iopub.status.idle": "2022-12-17T11:22:00.569099Z",
     "shell.execute_reply": "2022-12-17T11:22:00.568399Z"
    },
    "papermill": {
     "duration": 0.016594,
     "end_time": "2022-12-17T11:22:00.570964",
     "exception": false,
     "start_time": "2022-12-17T11:22:00.554370",
     "status": "completed"
    },
    "tags": []
   },
   "outputs": [],
   "source": [
    "arr = []\n",
    "for elem in pred :\n",
    "    if elem==1:\n",
    "        arr.append('Yes')\n",
    "    else:\n",
    "        arr.append('No')"
   ]
  },
  {
   "cell_type": "code",
   "execution_count": 25,
   "id": "895100a6",
   "metadata": {
    "execution": {
     "iopub.execute_input": "2022-12-17T11:22:00.587941Z",
     "iopub.status.busy": "2022-12-17T11:22:00.587552Z",
     "iopub.status.idle": "2022-12-17T11:22:00.604767Z",
     "shell.execute_reply": "2022-12-17T11:22:00.603849Z"
    },
    "papermill": {
     "duration": 0.027977,
     "end_time": "2022-12-17T11:22:00.606629",
     "exception": false,
     "start_time": "2022-12-17T11:22:00.578652",
     "status": "completed"
    },
    "tags": []
   },
   "outputs": [
    {
     "data": {
      "text/html": [
       "<div>\n",
       "<style scoped>\n",
       "    .dataframe tbody tr th:only-of-type {\n",
       "        vertical-align: middle;\n",
       "    }\n",
       "\n",
       "    .dataframe tbody tr th {\n",
       "        vertical-align: top;\n",
       "    }\n",
       "\n",
       "    .dataframe thead th {\n",
       "        text-align: right;\n",
       "    }\n",
       "</style>\n",
       "<table border=\"1\" class=\"dataframe\">\n",
       "  <thead>\n",
       "    <tr style=\"text-align: right;\">\n",
       "      <th></th>\n",
       "      <th>Id</th>\n",
       "      <th>Offer Accepted</th>\n",
       "    </tr>\n",
       "  </thead>\n",
       "  <tbody>\n",
       "    <tr>\n",
       "      <th>0</th>\n",
       "      <td>0</td>\n",
       "      <td>Yes</td>\n",
       "    </tr>\n",
       "    <tr>\n",
       "      <th>1</th>\n",
       "      <td>1</td>\n",
       "      <td>Yes</td>\n",
       "    </tr>\n",
       "    <tr>\n",
       "      <th>2</th>\n",
       "      <td>2</td>\n",
       "      <td>No</td>\n",
       "    </tr>\n",
       "    <tr>\n",
       "      <th>3</th>\n",
       "      <td>3</td>\n",
       "      <td>No</td>\n",
       "    </tr>\n",
       "    <tr>\n",
       "      <th>4</th>\n",
       "      <td>4</td>\n",
       "      <td>Yes</td>\n",
       "    </tr>\n",
       "  </tbody>\n",
       "</table>\n",
       "</div>"
      ],
      "text/plain": [
       "   Id Offer Accepted\n",
       "0   0            Yes\n",
       "1   1            Yes\n",
       "2   2             No\n",
       "3   3             No\n",
       "4   4            Yes"
      ]
     },
     "execution_count": 25,
     "metadata": {},
     "output_type": "execute_result"
    }
   ],
   "source": [
    "submission = pd.DataFrame(columns=['Id','Offer Accepted'])\n",
    "submission['Id'] = [i for i in range(len(pred))]\n",
    "\n",
    "submission['Offer Accepted'] = arr\n",
    "submission.head()"
   ]
  },
  {
   "cell_type": "code",
   "execution_count": 26,
   "id": "49afa148",
   "metadata": {
    "execution": {
     "iopub.execute_input": "2022-12-17T11:22:00.623792Z",
     "iopub.status.busy": "2022-12-17T11:22:00.623390Z",
     "iopub.status.idle": "2022-12-17T11:22:00.636957Z",
     "shell.execute_reply": "2022-12-17T11:22:00.635713Z"
    },
    "papermill": {
     "duration": 0.025089,
     "end_time": "2022-12-17T11:22:00.639460",
     "exception": false,
     "start_time": "2022-12-17T11:22:00.614371",
     "status": "completed"
    },
    "tags": []
   },
   "outputs": [],
   "source": [
    "submission.to_csv('submission.csv',index=False)"
   ]
  },
  {
   "cell_type": "code",
   "execution_count": null,
   "id": "36efe48c",
   "metadata": {
    "papermill": {
     "duration": 0.007736,
     "end_time": "2022-12-17T11:22:00.655069",
     "exception": false,
     "start_time": "2022-12-17T11:22:00.647333",
     "status": "completed"
    },
    "tags": []
   },
   "outputs": [],
   "source": []
  },
  {
   "cell_type": "code",
   "execution_count": null,
   "id": "5b6c287a",
   "metadata": {
    "papermill": {
     "duration": 0.007007,
     "end_time": "2022-12-17T11:22:00.669597",
     "exception": false,
     "start_time": "2022-12-17T11:22:00.662590",
     "status": "completed"
    },
    "tags": []
   },
   "outputs": [],
   "source": []
  },
  {
   "cell_type": "code",
   "execution_count": null,
   "id": "b21db701",
   "metadata": {
    "papermill": {
     "duration": 0.007411,
     "end_time": "2022-12-17T11:22:00.684600",
     "exception": false,
     "start_time": "2022-12-17T11:22:00.677189",
     "status": "completed"
    },
    "tags": []
   },
   "outputs": [],
   "source": []
  },
  {
   "cell_type": "code",
   "execution_count": null,
   "id": "e0773437",
   "metadata": {
    "papermill": {
     "duration": 0.007133,
     "end_time": "2022-12-17T11:22:00.699138",
     "exception": false,
     "start_time": "2022-12-17T11:22:00.692005",
     "status": "completed"
    },
    "tags": []
   },
   "outputs": [],
   "source": []
  },
  {
   "cell_type": "code",
   "execution_count": null,
   "id": "2c527f45",
   "metadata": {
    "papermill": {
     "duration": 0.007098,
     "end_time": "2022-12-17T11:22:00.713497",
     "exception": false,
     "start_time": "2022-12-17T11:22:00.706399",
     "status": "completed"
    },
    "tags": []
   },
   "outputs": [],
   "source": []
  }
 ],
 "metadata": {
  "kernelspec": {
   "display_name": "Python 3",
   "language": "python",
   "name": "python3"
  },
  "language_info": {
   "codemirror_mode": {
    "name": "ipython",
    "version": 3
   },
   "file_extension": ".py",
   "mimetype": "text/x-python",
   "name": "python",
   "nbconvert_exporter": "python",
   "pygments_lexer": "ipython3",
   "version": "3.7.12"
  },
  "papermill": {
   "default_parameters": {},
   "duration": 11.390803,
   "end_time": "2022-12-17T11:22:01.442508",
   "environment_variables": {},
   "exception": null,
   "input_path": "__notebook__.ipynb",
   "output_path": "__notebook__.ipynb",
   "parameters": {},
   "start_time": "2022-12-17T11:21:50.051705",
   "version": "2.3.4"
  }
 },
 "nbformat": 4,
 "nbformat_minor": 5
}
